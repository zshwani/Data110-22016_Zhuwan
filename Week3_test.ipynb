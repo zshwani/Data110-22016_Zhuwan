{
  "nbformat": 4,
  "nbformat_minor": 0,
  "metadata": {
    "colab": {
      "private_outputs": true,
      "provenance": [],
      "include_colab_link": true
    },
    "kernelspec": {
      "name": "python3",
      "display_name": "Python 3"
    },
    "language_info": {
      "name": "python"
    }
  },
  "cells": [
    {
      "cell_type": "markdown",
      "metadata": {
        "id": "view-in-github",
        "colab_type": "text"
      },
      "source": [
        "<a href=\"https://colab.research.google.com/github/zshwani/Data110-22016_Zhuwan/blob/main/Week3_test.ipynb\" target=\"_parent\"><img src=\"https://colab.research.google.com/assets/colab-badge.svg\" alt=\"Open In Colab\"/></a>"
      ]
    },
    {
      "cell_type": "code",
      "execution_count": null,
      "metadata": {
        "id": "y2FqUHUUO7fz"
      },
      "outputs": [],
      "source": [
        "import matplotlib.pyplot as plt\n",
        "import numpy as np\n",
        "import pandas as pd"
      ]
    },
    {
      "cell_type": "code",
      "source": [
        "plt.style.use('seaborn-whitegrid')"
      ],
      "metadata": {
        "id": "b0_odYRjVWMT"
      },
      "execution_count": null,
      "outputs": []
    },
    {
      "cell_type": "code",
      "source": [
        "def f1_x(x):\n",
        "    return x**2 - 2*x + 1\n",
        "\n",
        "def f2_x(x):\n",
        "    return x**3\n",
        "\n",
        "def g_x(x):\n",
        "    return np.exp(x)\n",
        "\n",
        "def h_x(x):\n",
        "    return np.log(x)\n",
        "\n",
        "x_full = np.linspace(-2, 4, 400)\n",
        "x_positive = np.linspace(0.1, 4, 400)\n",
        "\n",
        "f1_y = f1_x(x_full)\n",
        "f2_y = f2_x(x_full)\n",
        "g_y = g_x(x_full)\n",
        "h_y = h_x(x_positive)\n",
        "\n",
        "\n",
        "plt.plot(x_full, f1_y, label='f(x) = x^2 - 2x + 1', color='red')\n",
        "plt.plot(x_full, f2_y, label='f(x) = x^3', color='blue')\n",
        "plt.plot(x_full, g_y, label='g(x) = e^x', color='green')\n",
        "plt.plot(x_positive, h_y, label='h(x) = log(x)', color='orange')\n",
        "\n",
        "plt.xlabel('x')\n",
        "plt.ylabel('y')\n",
        "plt.title('Plots of f(x) = x^2 - 2x + 1, f(x) = x^3, g(x) = e^x, and h(x) = log(x)')\n",
        "\n",
        "plt.legend()\n",
        "\n",
        "plt.show()\n"
      ],
      "metadata": {
        "id": "Ksw0qOnMoYrr"
      },
      "execution_count": null,
      "outputs": []
    },
    {
      "cell_type": "code",
      "source": [
        "def f_x(x):\n",
        "    return 1 / (x**2 + 2)\n",
        "\n",
        "x = np.linspace(-10, 10, 400)\n",
        "\n",
        "y = f_x(x)\n",
        "\n",
        "plt.figure(figsize=(8, 6))\n",
        "plt.plot(x, y, label=r'f(x) = $\\frac{1}{x^2 + 2}$', color='blue')\n",
        "\n",
        "plt.xlim(-10, 10)\n",
        "plt.ylim(0, 1)\n",
        "\n",
        "plt.xlabel('x')\n",
        "plt.ylabel('f(x)')\n",
        "plt.title('Plot of f(x) = 1/(x^2 + 2) with Custom Limits')\n",
        "\n",
        "plt.legend()\n",
        "\n",
        "plt.grid(True)\n",
        "plt.show()\n",
        "\n",
        "plt.figure(figsize=(8, 6))\n",
        "plt.plot(x, y, label=r'f(x) = $\\frac{1}{x^2 + 2}$', color='red')\n",
        "\n",
        "plt.gca().invert_xaxis()\n",
        "plt.gca().invert_yaxis()\n",
        "\n",
        "plt.xlabel('x (Reversed)')\n",
        "plt.ylabel('f(x) (Reversed)')\n",
        "plt.title('Plot of f(x) = 1/(x^2 + 2) with Reversed Axes')\n",
        "\n",
        "plt.legend()\n",
        "\n",
        "plt.show()\n",
        "\n",
        "plt.figure(figsize=(8, 6))\n",
        "plt.plot(x, y, label=r'f(x) = $\\frac{1}{x^2 + 2}$', color='green')\n",
        "\n",
        "\n",
        "plt.axis('tight')\n",
        "\n",
        "plt.xlabel('x')\n",
        "plt.ylabel('f(x)')\n",
        "plt.title('Plot with plt.axis(\"tight\")')\n",
        "\n",
        "plt.legend()\n",
        "\n",
        "\n",
        "plt.show()\n",
        "\n",
        "plt.figure(figsize=(8, 6))\n",
        "plt.plot(x, y, label=r'f(x) = $\\frac{1}{x^2 + 2}$', color='purple')\n",
        "\n",
        "plt.axis('equal')\n",
        "\n",
        "plt.xlabel('x')\n",
        "plt.ylabel('f(x)')\n",
        "plt.title('Plot with plt.axis(\"equal\")')\n",
        "\n",
        "plt.legend()\n",
        "\n",
        "plt.show()"
      ],
      "metadata": {
        "id": "hJfG7dE_pvyq"
      },
      "execution_count": null,
      "outputs": []
    },
    {
      "cell_type": "code",
      "source": [
        "def f_x(x):\n",
        "    return np.sqrt(x)\n",
        "\n",
        "def g_x(x):\n",
        "    return x**3\n",
        "\n",
        "x = np.linspace(0.1, 4, 400)\n",
        "\n",
        "f_y = f_x(x)\n",
        "g_y = g_x(x)\n",
        "\n",
        "plt.figure(figsize=(8, 6))\n",
        "plt.plot(x, f_y, label=r'f(x) = $\\sqrt{x}$', color='blue')\n",
        "plt.plot(x, g_y, label='g(x) = $x^3$', color='red')\n",
        "\n",
        "plt.xlabel('x')\n",
        "plt.ylabel('y')\n",
        "plt.title('Plot of f(x) = sqrt(x) and g(x) = x^3')\n",
        "\n",
        "plt.legend()\n",
        "\n",
        "plt.show()"
      ],
      "metadata": {
        "id": "wraOb1aAqtCv"
      },
      "execution_count": null,
      "outputs": []
    },
    {
      "cell_type": "code",
      "source": [
        "x = np.random.rand(50)\n",
        "y = np.random.rand(50)\n",
        "\n",
        "plt.figure(figsize=(8, 6))\n",
        "plt.plot(x, y, 'o', label='Random Points (plt.plot)')\n",
        "plt.title('Scatter Plot using plt.plot()')\n",
        "plt.xlabel('x')\n",
        "plt.ylabel('y')\n",
        "plt.grid(True)\n",
        "plt.legend()\n",
        "plt.show()\n",
        "\n",
        "plt.figure(figsize=(8, 6))\n",
        "plt.scatter(x, y, label='Random Points (plt.scatter)', color='red')\n",
        "plt.title('Scatter Plot using plt.scatter()')\n",
        "plt.xlabel('x')\n",
        "plt.ylabel('y')\n",
        "plt.legend()\n",
        "plt.show()\n",
        "\n",
        "plt.figure(figsize=(8, 6))\n",
        "plt.scatter(x, y, label='Random Points (plt.scatter)', color='red')\n",
        "plt.title('Scatter Plot using plt.scatter()')\n",
        "plt.xlabel('x')\n",
        "plt.ylabel('y')\n",
        "plt.legend()\n",
        "plt.show()"
      ],
      "metadata": {
        "id": "FVfksinNsNYP"
      },
      "execution_count": null,
      "outputs": []
    },
    {
      "cell_type": "code",
      "source": [
        "def f_x(x):\n",
        "    return x * np.sin(x)\n",
        "\n",
        "x = np.linspace(0, 4 * np.pi, 100)\n",
        "\n",
        "y = f_x(x)\n",
        "\n",
        "plt.figure(figsize=(10, 6))\n",
        "plt.plot(x, y, marker='o', markersize=8, markerfacecolor='orange', markeredgecolor='black',\n",
        "         markeredgewidth=2, linewidth=2, label=r'f(x) = x$\\sin(x)$')\n",
        "\n",
        "plt.title('Scatter Plot of f(x) = xsin(x) with Customizations')\n",
        "plt.xlabel('x')\n",
        "plt.ylabel('f(x)')\n",
        "\n",
        "plt.legend()\n",
        "plt.show()"
      ],
      "metadata": {
        "id": "BrfYaQcIuiVu"
      },
      "execution_count": null,
      "outputs": []
    },
    {
      "cell_type": "code",
      "source": [
        "def f_x(x):\n",
        "    return x * np.cos(x)\n",
        "\n",
        "x = np.linspace(-2 * np.pi, 2 * np.pi, 400)\n",
        "\n",
        "y = f_x(x)\n",
        "\n",
        "x_scatter = np.arange(-2 * np.pi, 2 * np.pi + np.pi / 4, np.pi / 4)\n",
        "\n",
        "y_scatter = f_x(x_scatter)\n",
        "\n",
        "plt.figure(figsize=(10, 6))\n",
        "\n",
        "plt.plot(x, y, color='blue', linestyle='--', linewidth=2, label=r'f(x) = x$\\cos(x)$')\n",
        "\n",
        "plt.scatter(x_scatter, y_scatter, color='red', marker='o', s=100, label='Scatter Points (π/4 intervals)')\n",
        "\n",
        "plt.xlabel('x')\n",
        "plt.ylabel('f(x)')\n",
        "plt.title(r'Plot of f(x) = x$\\cos(x)$ with Scatter Points at $\\frac{\\pi}{4}$ Intervals')\n",
        "\n",
        "plt.legend()\n",
        "\n",
        "plt.show()"
      ],
      "metadata": {
        "id": "N_mAHQotvhPx"
      },
      "execution_count": null,
      "outputs": []
    },
    {
      "cell_type": "code",
      "source": [
        "def f_x(x):\n",
        "    return np.tan(x)\n",
        "\n",
        "def i_x(x):\n",
        "    return np.arctan(x)\n",
        "\n",
        "x_tan = np.linspace(-np.pi/2 + 0.1, np.pi/2 - 0.1, 400)\n",
        "\n",
        "x_arctan = np.linspace(-5, 5, 400)\n",
        "\n",
        "y_tan = f_x(x_tan)\n",
        "y_arctan = i_x(x_arctan)\n",
        "\n",
        "plt.style.use('ggplot')\n",
        "\n",
        "plt.figure(figsize=(10, 6))\n",
        "\n",
        "plt.plot(x_tan, y_tan, color='blue', linestyle='--', linewidth=2, label=r'f(x) = $\\tan(x)$')\n",
        "\n",
        "plt.plot(x_arctan, y_arctan, color='green', linestyle='-', linewidth=2, label=r'i(x) = $\\arctan(x)$')\n",
        "\n",
        "scatter_x = np.array([-4, -2, 0, 2, 4])\n",
        "scatter_y = i_x(scatter_x)\n",
        "plt.scatter(scatter_x, scatter_y, color='red', marker='o', s=100, label='Scatter Points (arctan)')\n",
        "\n",
        "plt.xlim(-5, 5)\n",
        "plt.ylim(-2, 2)\n",
        "\n",
        "plt.xlabel('x')\n",
        "plt.ylabel('y')\n",
        "plt.title('Custom Plot of f(x) = tan(x) and i(x) = arctan(x) with Customizations')\n",
        "plt.legend()\n",
        "\n",
        "plt.show()"
      ],
      "metadata": {
        "id": "GdPfLMMZwPmr"
      },
      "execution_count": null,
      "outputs": []
    },
    {
      "cell_type": "code",
      "source": [
        "plt.plot(x, x, linestyle='--', color='red', label='x')\n",
        "\n"
      ],
      "metadata": {
        "id": "my5dKVJWUZRh"
      },
      "execution_count": null,
      "outputs": []
    },
    {
      "cell_type": "code",
      "source": [
        "plt.plot(x, x, linestyle='--', color='red', label='x')\n"
      ],
      "metadata": {
        "id": "83xuEN1tVp4O"
      },
      "execution_count": null,
      "outputs": []
    }
  ]
}