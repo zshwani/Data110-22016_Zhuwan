{
  "cells": [
    {
      "cell_type": "markdown",
      "metadata": {
        "id": "view-in-github",
        "colab_type": "text"
      },
      "source": [
        "<a href=\"https://colab.research.google.com/github/Reben80/Data110-22016/blob/main/Week5_Code_Titanic.ipynb\" target=\"_parent\"><img src=\"https://colab.research.google.com/assets/colab-badge.svg\" alt=\"Open In Colab\"/></a>"
      ]
    },
    {
      "cell_type": "markdown",
      "metadata": {
        "id": "4c833e1d"
      },
      "source": [
        "Let's first import all the necessary packages for this week. We use:\n",
        "- `pandas` for data manipulation,\n",
        "- `matplotlib.pyplot` for plotting graphs, and\n",
        "- `seaborn` for statistical visualizations."
      ]
    },
    {
      "cell_type": "code",
      "execution_count": null,
      "metadata": {
        "id": "WE44hBR1Vy0x"
      },
      "outputs": [],
      "source": [
        "import pandas as pd\n",
        "import matplotlib.pyplot as plt\n",
        "import seaborn as sns"
      ]
    },
    {
      "cell_type": "markdown",
      "metadata": {
        "id": "085af5af"
      },
      "source": [
        "Now, we'll load the dataset using pandas. This step is crucial for the next phases of our analysis."
      ]
    },
    {
      "cell_type": "code",
      "execution_count": null,
      "metadata": {
        "id": "2PmWjG5BU7XJ"
      },
      "outputs": [],
      "source": [
        "titanic_df=pd.read_csv('https://raw.githubusercontent.com/Reben80/Data110-32213/main/dataset/titanic.csv')\n",
        "titanic_df.head()"
      ]
    },
    {
      "cell_type": "markdown",
      "metadata": {
        "id": "a95539ae"
      },
      "source": [
        "In this code block, we're visualizing the distribution of ages within the Titanic dataset. We use `matplotlib`'s `plt.hist` function to create a histogram of the 'age' column from the `titanic_df` DataFrame. This visualization helps us understand the age distribution of the passengers aboard the Titanic, providing insights into the demographics of the passengers. The `plt.show()` command is used to display the histogram.\n"
      ]
    },
    {
      "cell_type": "code",
      "execution_count": null,
      "metadata": {
        "id": "EJTrMAwCXlsL"
      },
      "outputs": [],
      "source": [
        "plt.hist(titanic_df['age'])\n",
        "plt.show()"
      ]
    },
    {
      "cell_type": "markdown",
      "metadata": {
        "id": "RIQo9bfvYpcC"
      },
      "source": [
        "# Histograms depend on the chosen bin width"
      ]
    },
    {
      "cell_type": "markdown",
      "metadata": {
        "id": "4a34ab5e"
      },
      "source": [
        "We enhance our visualization of the age distribution within the Titanic dataset by specifying the number of bins in the histogram. Using `plt.hist`, we plot the 'age' column from `titanic_df`, setting `bins=60` to achieve a more detailed distribution. This adjustment allows us to observe more granular age intervals among the passengers. The `plt.show()` function then displays the detailed histogram, offering a clearer insight into the diverse age groups aboard the Titanic.\n"
      ]
    },
    {
      "cell_type": "code",
      "execution_count": null,
      "metadata": {
        "id": "L0p-l76pYo4F"
      },
      "outputs": [],
      "source": [
        "plt.hist(titanic_df['age'],bins=60)\n",
        "plt.show()"
      ]
    },
    {
      "cell_type": "markdown",
      "metadata": {
        "id": "c64525e3"
      },
      "source": [
        "In this iteration, we're adjusting the histogram of the Titanic dataset's age distribution by setting the number of bins to 30. This choice strikes a balance between detail and clarity, allowing us to observe the age distribution across broader age intervals without losing sight of the overall pattern. By using `plt.hist` with `bins=30`, we create a histogram that effectively showcases the age range and distribution patterns among the Titanic passengers. The visualization is then displayed using `plt.show()`, offering insights into how passenger ages are spread across different intervals.\n"
      ]
    },
    {
      "cell_type": "code",
      "execution_count": null,
      "metadata": {
        "id": "jf9l7KinZgp6"
      },
      "outputs": [],
      "source": [
        "plt.hist(titanic_df['age'],bins=30)\n",
        "plt.show()"
      ]
    },
    {
      "cell_type": "markdown",
      "metadata": {
        "id": "3f6504ee"
      },
      "source": [
        "By setting the number of bins to 15 in the histogram, we are making a significant change to how we visualize the age distribution among the Titanic's passengers. This reduction in bins leads to a more generalized view of the data, merging individual age groups into broader categories. Here's what happens as a result:\n",
        "\n",
        "1. **Simplification of Data Representation:** With fewer bins, each bin covers a wider age range. This simplification can make it easier to identify major trends in the data, such as the most populous age groups, by reducing the complexity of the visualization.\n",
        "\n",
        "2. **Loss of Detail:** While simplifying the visualization, we also lose some of the finer details that were visible with more bins. Subtle variations within smaller age intervals might be obscured, as multiple age groups are now combined into single bins.\n",
        "\n",
        "3. **Enhanced Clarity for General Trends:** The broader bins can help in highlighting the overall shape of the age distribution more clearly. It becomes easier to see general patterns, such as whether the distribution is skewed towards younger or older passengers, without getting distracted by the minutiae.\n",
        "\n",
        "4. **Impact on Analysis:** The choice of bin size can influence analytical conclusions. For instance, if we're interested in the specific age groups most affected by a certain policy or condition aboard the Titanic, too few bins might mask important distinctions. Conversely, for a high-level overview of passenger demographics, fewer, broader bins could be exactly what's needed.\n",
        "\n",
        "In summary, reducing the number of bins to 15 offers a more generalized but clearer view of age distribution, trading off detailed granularity for a simplified and potentially more interpretable visualization. This approach is particularly useful when our goal is to understand broad demographic trends rather than the specifics of age distribution granularity."
      ]
    },
    {
      "cell_type": "code",
      "execution_count": null,
      "metadata": {
        "id": "lvM6aGpdZxlm"
      },
      "outputs": [],
      "source": [
        "plt.hist(titanic_df['age'],bins=15)\n",
        "plt.show()"
      ]
    },
    {
      "cell_type": "markdown",
      "metadata": {
        "id": "6447570c"
      },
      "source": [
        "Switching to 5 bins in the age distribution histogram of the Titanic dataset drastically simplifies the visualization. This approach:\n",
        "- Merges a wide range of ages into few categories, offering a broad-brush view of demographic trends.\n",
        "- Loses detailed granularity but enhances the ability to quickly grasp the most dominant age groups aboard.\n",
        "- Is ideal for identifying very general patterns in age distribution, sacrificing detail for simplicity.\n"
      ]
    },
    {
      "cell_type": "code",
      "execution_count": null,
      "metadata": {
        "id": "WD8ZulJbZxiX"
      },
      "outputs": [],
      "source": [
        "plt.hist(titanic_df['age'],bins=5)\n",
        "plt.show()"
      ]
    },
    {
      "cell_type": "markdown",
      "metadata": {
        "id": "409e7acd"
      },
      "source": [
        "This code block builds a more detailed histogram to visualize the age distribution of passengers on the Titanic, incorporating several stylistic and functional enhancements for clarity and visual appeal:\n",
        "\n",
        "- **Styling with `ggplot`:** The use of `plt.style.use('ggplot')` applies the 'ggplot' style, known for its aesthetically pleasing and easily interpretable visual design, to the histogram.\n",
        "\n",
        "- **Figure Size Adjustment:** `plt.figure(figsize=(10, 6))` adjusts the size of the histogram to 10 inches in width and 6 inches in height, ensuring that the visualization is large enough to be easily viewed and understood.\n",
        "\n",
        "- **Custom Bin Settings and Colors:** The histogram is customized with `bins=15`, and the `color='skyblue'` and `edgecolor='white'` parameters make the visualization visually appealing and enhance the readability of individual bins.\n",
        "\n",
        "- **Title and Axis Labels:** The addition of a title with `plt.title('Age Distribution of Titanic Passengers')` and axis labels (`plt.xlabel('Age(years)')` and `plt.ylabel('count')`) provides clear context for the histogram, explaining what is being measured and how.\n",
        "\n",
        "- **Grid and Ticks Customization:** The `plt.grid(axis='x')` and `plt.xticks([0, 20, 40, 60])` commands enhance the histogram's readability by adding a grid along the x-axis and custom tick marks at specified ages, making it easier to interpret age intervals.\n",
        "\n",
        "- **Tick Color Adjustment:** `plt.tick_params(axis='x', colors='gray')` subtly changes the x-axis tick colors to gray, reducing visual clutter and focusing attention on the histogram bars.\n",
        "\n",
        "Together, these enhancements create a comprehensive and visually appealing histogram that not only shows the age distribution of Titanic passengers but also does so in a way that is easy to read and understand, highlighting key data points and trends.\n"
      ]
    },
    {
      "cell_type": "code",
      "execution_count": null,
      "metadata": {
        "id": "wcrujeV7aBEG"
      },
      "outputs": [],
      "source": [
        "# Create a histogram for the age distribution\n",
        "plt.style.use('ggplot')\n",
        "plt.figure(figsize=(10, 6))\n",
        "plt.hist(titanic_df['age'], bins=15, color='skyblue',edgecolor='white')\n",
        "plt.title('Age Distribution of Titanic Passengers')\n",
        "plt.xlabel('Age(years)')\n",
        "plt.ylabel('count')\n",
        "plt.grid(axis='x')\n",
        "plt.xticks([0, 20, 40, 60])\n",
        "plt.tick_params(axis='x', colors='gray')  # Set x-axis tick colors to gray\n",
        "plt.show()\n"
      ]
    },
    {
      "cell_type": "markdown",
      "metadata": {
        "id": "i7KqLjpxZ6Rk"
      },
      "source": [
        "# Alternative to histogram: Kernel density estimate (KDE)"
      ]
    },
    {
      "cell_type": "markdown",
      "metadata": {
        "id": "34a2c939"
      },
      "source": [
        "This code block generates a kernel density estimate (KDE) plot for the age distribution of Titanic passengers using Seaborn's `sns.kdeplot` function. A KDE plot is a way to visualize the distribution of a continuous variable, providing a smoothed, continuous curve that represents the density of observations. Here's how it enhances our analysis:\n",
        "\n",
        "- **Visualization of Age Density:** Unlike histograms, which aggregate data into discrete bins, a KDE plot provides a smooth curve that gives a more intuitive sense of the distribution's shape—peaks on the curve represent ages with a high density of passengers.\n",
        "\n",
        "- **Estimation of Distribution Shape:** The KDE plot helps in understanding the overall distribution pattern (e.g., unimodal, bimodal, skewed) of ages among the Titanic passengers, which can be critical for identifying demographic trends.\n",
        "\n",
        "- **Focus on Trends Over Specific Values:** By smoothing out the randomness in the data, a KDE plot highlights underlying trends in the age distribution, making it easier to identify the most common age ranges without getting bogged down by the specifics of individual data points.\n",
        "\n",
        "This KDE plot serves as a complementary analysis tool alongside histograms, offering a different perspective on the age data by focusing on distribution density and smoothing out the variability between individual ages.\n"
      ]
    },
    {
      "cell_type": "code",
      "execution_count": null,
      "metadata": {
        "id": "RyoT7KZ4Z-b6"
      },
      "outputs": [],
      "source": [
        "sns.kdeplot(titanic_df['age'])\n",
        "plt.show()\n"
      ]
    },
    {
      "cell_type": "markdown",
      "metadata": {
        "id": "bbc98606"
      },
      "source": [
        "This code block performs operations that will be detailed here. Please customize this explanation."
      ]
    },
    {
      "cell_type": "markdown",
      "metadata": {
        "id": "e6cfe7b4"
      },
      "source": [
        "### Initial KDE Plot\n",
        "The code `sns.kdeplot(titanic_df['age'])` generates a Kernel Density Estimate (KDE) plot for the age distribution of Titanic passengers. A KDE plot provides a smooth, continuous estimate of the underlying distribution, offering a clear visual representation of density where the peaks correspond to concentrations of ages.\n",
        "\n",
        "### Enhanced KDE Plot with Shading\n",
        "Adding `shade=True` to `sns.kdeplot(titanic_df['age'], shade=True)` enhances the initial KDE plot by filling the area under the curve, making it easier to visualize the density of the distribution. Shading adds depth to our visualization, emphasizing regions of higher passenger density within the age distribution. This visual cue helps in quickly identifying the age ranges with the most significant concentrations of passengers, making the distribution's key features more accessible and interpretable.\n"
      ]
    },
    {
      "cell_type": "code",
      "execution_count": null,
      "metadata": {
        "id": "d6PABDeKdjqj"
      },
      "outputs": [],
      "source": [
        "sns.kdeplot(titanic_df['age'], shade=True)\n",
        "plt.show()"
      ]
    },
    {
      "cell_type": "markdown",
      "metadata": {
        "id": "102553f2"
      },
      "source": [
        "In this advanced visualization, we craft a Kernel Density Estimate (KDE) plot with additional styling to more effectively convey the age distribution of passengers on the Titanic. Here's what we've done:\n",
        "\n",
        "- **Figure Size:** By setting `plt.figure(figsize=(10, 6))`, we ensure the plot is large enough to comfortably accommodate all visual elements, making the data easy to read and interpret.\n",
        "\n",
        "- **Shade and Color Customization:** The `sns.kdeplot(titanic_df['age'], shade=True, color=\"red\", alpha=0.7)` command not only shades the area under the KDE curve for better visual impact but also applies a red color with 70% opacity (alpha=0.7). This choice of color and transparency strikes a balance between visual appeal and clarity, allowing underlying gridlines or other plot elements to remain visible through the shaded area.\n",
        "\n",
        "- **Titles and Labels:** Adding a title and axis labels with `plt.title('Kernel Density Estimate of Age for Titanic Passengers')`, `plt.xlabel('Age')`, and `plt.ylabel('Density')` provides clear, concise context. These elements inform the viewer exactly what the plot represents: a density estimate of ages, with the x-axis showing age in years and the y-axis representing the estimated density of passengers at each age.\n",
        "\n"
      ]
    },
    {
      "cell_type": "code",
      "execution_count": null,
      "metadata": {
        "id": "NNWM6E0-Xc4n"
      },
      "outputs": [],
      "source": [
        "plt.figure(figsize=(10, 6))\n",
        "sns.kdeplot(titanic_df['age'], shade=True, color=\"red\", alpha=0.7)\n",
        "plt.title('Kernel Density Estimate of Age for Titanic Passengers')\n",
        "plt.xlabel('Age')\n",
        "plt.ylabel('Density')\n",
        "plt.xlim(0, 100)\n",
        "plt.show()"
      ]
    },
    {
      "cell_type": "markdown",
      "metadata": {
        "id": "OuqQkyZ8eUMl"
      },
      "source": [
        "Histograms show raw counts, KDEs show proportions. (Total area = 1) ( Counts vs Density)"
      ]
    },
    {
      "cell_type": "markdown",
      "metadata": {
        "id": "9fbf2e75"
      },
      "source": [
        "The enhancement to our KDE plot involves adjusting the bandwidth (`bw_adjust`) parameter, alongside specifying full opacity (`alpha=1`) for the shaded area:\n",
        "\n",
        "### Bandwidth Adjustment\n",
        "- **`bw_adjust=0.1`:** This parameter controls the bandwidth of the Kernel Density Estimate. A smaller bandwidth (less than 1) makes the curve more sensitive to small variations in the data, resulting in a more detailed but potentially noisier estimate. The choice of `0.1` significantly sharpens the features of the density estimate, emphasizing minor fluctuations in the age distribution of Titanic passengers. This adjustment is crucial for detailed data analysis, where understanding subtle variations is key.\n"
      ]
    },
    {
      "cell_type": "code",
      "execution_count": null,
      "metadata": {
        "id": "OaM7agYqeT6R"
      },
      "outputs": [],
      "source": [
        "plt.figure(figsize=(10, 6))\n",
        "sns.kdeplot(titanic_df['age'], bw_adjust=0.1, shade=True, color=\"red\", alpha=1)\n",
        "plt.title('Kernel Density Estimate of Age for Titanic Passengers')\n",
        "plt.xlabel('Age')\n",
        "plt.ylabel('Density')\n",
        "plt.xlim(0, 100)\n",
        "plt.show()\n"
      ]
    },
    {
      "cell_type": "code",
      "execution_count": null,
      "metadata": {
        "id": "CDkPwtOFe_4m"
      },
      "outputs": [],
      "source": [
        "plt.figure(figsize=(10, 6))\n",
        "sns.kdeplot(titanic_df['age'], bw_adjust=0.4, shade=True, color=\"red\", alpha=1)\n",
        "plt.title('Kernel Density Estimate of Age for Titanic Passengers')\n",
        "plt.xlabel('Age')\n",
        "plt.ylabel('Density')\n",
        "plt.xlim(0, 100)\n",
        "plt.show()\n"
      ]
    },
    {
      "cell_type": "code",
      "execution_count": null,
      "metadata": {
        "id": "j3OqQrQwfHEf"
      },
      "outputs": [],
      "source": [
        "plt.figure(figsize=(10, 6))\n",
        "sns.kdeplot(titanic_df['age'], bw_adjust=0.7, shade=True, color=\"red\", alpha=1)\n",
        "plt.title('Kernel Density Estimate of Age for Titanic Passengers')\n",
        "plt.xlabel('Age')\n",
        "plt.ylabel('Density')\n",
        "plt.xlim(0, 100)\n",
        "plt.show()\n"
      ]
    },
    {
      "cell_type": "markdown",
      "metadata": {
        "id": "fd2c0e52"
      },
      "source": [
        "We'll create visualizations using matplotlib and seaborn to better understand our data's distribution and relationships."
      ]
    },
    {
      "cell_type": "code",
      "execution_count": null,
      "metadata": {
        "id": "GRM-kRmCfJrs"
      },
      "outputs": [],
      "source": [
        "plt.figure(figsize=(10, 6))\n",
        "sns.kdeplot(titanic_df['age'], bw_adjust=2, fill=True, color=\"red\", alpha=1)\n",
        "plt.title('Kernel Density Estimate of Age for Titanic Passengers')\n",
        "plt.xlabel('Age')\n",
        "plt.ylabel('Density')\n",
        "plt.xlim(0, 100)\n",
        "plt.show()\n"
      ]
    },
    {
      "cell_type": "markdown",
      "metadata": {
        "id": "jOp7uf8hfpyb"
      },
      "source": [
        "## Careful: Are bars stacked or overlapping?"
      ]
    },
    {
      "cell_type": "markdown",
      "metadata": {
        "id": "6a710e77"
      },
      "source": [
        "While this visualization method effectively segregates the age distributions by gender, offering valuable insights into the demographic composition of the Titanic's passengers, it also introduces a possibility for misinterpretation:\n",
        "\n",
        "### Potential Misinterpretation:\n",
        "- **Overlapping vs. Stacked Histograms:** The code plots the histograms for male and female passengers on the same figure, which could lead viewers to mistakenly interpret the visualization as either stacked or overlapping. In a **stacked histogram**, bars representing different groups are placed on top of each other, whereas in an **overlapping histogram**, bars are plotted in the same space with varying degrees of transparency to show the distribution overlap. This distinction is crucial for accurate interpretation.\n",
        "\n",
        "- **Implications of Misinterpretation:** If viewers perceive the histogram as stacked, they might conclude that the counts of male and female passengers are additive for each age bin, which could lead to an overestimation of the total number of passengers in specific age ranges. Conversely, if perceived as purely overlapping without recognizing the distinct distributions, it might obscure the comparative analysis between genders, especially in age ranges where one gender significantly outnumbers the other.\n",
        "\n",
        "### Clarification and Best Practices:\n",
        "To mitigate potential confusion, it's advisable to:\n",
        "- **Explicitly State the Visualization Type:** Include a note in the chart description or legend specifying that the histograms are plotted in an overlapping manner, each representing the distribution of ages for male and female passengers separately.\n",
        "- **Consider Alternative Visualizations:** For some audiences or purposes, separate histograms or density plots might convey the distributions more clearly without risking the overlapping/stacked confusion. Alternatively, adjusting the transparency (alpha value) or employing distinct color schemes can help differentiate the distributions more effectively.\n",
        "\n",
        "This additional consideration underscores the importance of choosing the right visualization techniques and clearly communicating their interpretation to avoid misrepresentation of data. By acknowledging and addressing potential sources of confusion, we can ensure that the insights derived from the data are both accurate and meaningful.\n"
      ]
    },
    {
      "cell_type": "code",
      "execution_count": null,
      "metadata": {
        "id": "-XV5rGdzfsnt"
      },
      "outputs": [],
      "source": [
        "\n",
        "\n",
        "# This section of the code filters the 'titanic_df' DataFrame to separate passengers based on their sex and extracts their ages.\n",
        "# First, it selects male passengers by checking if the 'sex' column equals 'male', then accesses their 'age' column to create a Series of ages for male passengers and stores it in 'ages_male'.\n",
        "# Similarly, it selects female passengers by filtering the DataFrame where the 'sex' column equals 'female', then retrieves their 'age' column to create a Series of ages for female passengers, stored in 'ages_female'.\n",
        "ages_male = titanic_df[titanic_df['sex'] == 'male']['age']\n",
        "ages_female = titanic_df[titanic_df['sex'] == 'female']['age']\n",
        "\n",
        "\n",
        "# Set the number of bins for the histogram\n",
        "bins = 15  # You can adjust this number as needed\n",
        "\n",
        "# Create a histogram with separate bars for males and females\n",
        "plt.figure(figsize=(10, 6))\n",
        "plt.hist([ages_male, ages_female], bins, label=['Male', 'Female'])\n",
        "\n",
        "# Add titles and labels\n",
        "plt.title('Age Distribution by Sex on the Titanic')\n",
        "plt.xlabel('Age')\n",
        "plt.ylabel('Count')\n",
        "plt.legend()\n",
        "\n",
        "# Show the plot\n",
        "plt.show()\n"
      ]
    },
    {
      "cell_type": "markdown",
      "metadata": {
        "id": "dqTdtS4KBs4Z"
      },
      "source": [
        "# Create a histogram with stacked bars"
      ]
    },
    {
      "cell_type": "code",
      "execution_count": null,
      "metadata": {
        "id": "HiOgC7e0g7bH"
      },
      "outputs": [],
      "source": [
        "# Create a histogram with stacked bars for males and females to visually represent the age distribution more compactly\n",
        "plt.figure(figsize=(10, 6))  # Adjusting figure size\n",
        "plt.hist([ages_male, ages_female],bins=15, stacked=True, edgecolor='white', label=['Male', 'Female'])\n",
        "\n",
        "# Customize the plot\n",
        "plt.xlabel('Age')\n",
        "plt.ylabel('Count')\n",
        "plt.title('Age Distribution of Titanic Passengers by Sex')\n",
        "plt.legend()\n",
        "plt.grid(axis='x')\n",
        "plt.xticks([0, 20, 40, 60])\n",
        "# Show the plot\n",
        "plt.show()\n",
        "\n"
      ]
    },
    {
      "cell_type": "code",
      "execution_count": null,
      "metadata": {
        "id": "E5J1HDWZiM8q"
      },
      "outputs": [],
      "source": [
        "\n",
        "# Create the stacked histogram\n",
        "plt.figure(figsize=(10, 6))  # Adjust figure size as desired\n",
        "plt.hist(\n",
        "     [ages_male, ages_female],bins=20, stacked=True,label=['Male', 'Female'],edgecolor='white')\n",
        "\n",
        "# Customize the plot\n",
        "plt.xlabel('Age')\n",
        "plt.ylabel('Count')\n",
        "plt.title('Age Distribution of Titanic Passengers by Sex')\n",
        "plt.legend()\n",
        "plt.grid(axis='x')\n",
        "plt.xticks([0, 20, 40, 60])\n",
        "plt.tick_params(axis='x', colors='gray')  # Set x-axis tick colors to gray\n"
      ]
    },
    {
      "cell_type": "markdown",
      "metadata": {
        "id": "bbe26f3b"
      },
      "source": [
        "The code snippet bellow demonstrates an innovative solution to the issue encountered with the previous histogram—where overlapping or stacking of male and female age distributions could lead to misinterpretation. By employing a mirrored histogram, or an \"Age Pyramid,\" this approach distinctly visualizes the comparison between male and female passengers on the Titanic, avoiding the pitfalls of the earlier method.\n",
        "\n",
        "### Addressing Visualization Challenges:\n",
        "- **Clear Distinction:** The mirrored histogram effectively separates the age distributions for males and females, presenting them on opposite sides of the chart. This not only resolves the issue of overlapping or stacking but also enhances the clarity and interpretability of the data.\n",
        "- **Innovative Technique:** Mirroring the male age distribution to the left and plotting the female distribution to the right offers a direct, comparative view of the demographics, making it easier to understand the age dynamics aboard the Titanic.\n",
        "\n",
        "This visualization strategy provides a compelling alternative, ensuring that viewers can easily discern the differences in age distribution between genders without confusion.\n"
      ]
    },
    {
      "cell_type": "code",
      "execution_count": null,
      "metadata": {
        "id": "rlhB2xo6ky9S"
      },
      "outputs": [],
      "source": [
        "plt.figure(figsize=(10, 6))\n",
        "\n",
        "# Plot the male histogram on the left by multiplying by -1 to mirror the males on the left side\n",
        "plt.hist(ages_male, bins=30, label='Male', alpha=0.5, color='blue', weights=[-1]*len(ages_male))\n",
        "\n",
        "# Plot the female histogram on the right\n",
        "plt.hist(ages_female, bins=30, label='Female', alpha=0.5, color='red')\n",
        "\n",
        "# Add labels and title\n",
        "plt.xlabel('Number of Passengers')\n",
        "plt.ylabel('Age')\n",
        "plt.title('Age Pyramid of Titanic Passengers')\n",
        "plt.legend(loc='upper right')\n",
        "\n",
        "# Fix the y-axis labels to be absolute values for clarity\n",
        "plt.yticks([-60,-40,-20,0, 20, 40, 60])\n",
        "\n",
        "plt.show()\n"
      ]
    },
    {
      "cell_type": "markdown",
      "metadata": {
        "id": "TuL5FPxfmXx8"
      },
      "source": [
        "## Alternatively: KDEs showing proportions of total"
      ]
    },
    {
      "cell_type": "markdown",
      "metadata": {
        "id": "7df2c8cd"
      },
      "source": [
        "The alternative visualization using a Kernel Density Estimate (KDE) plot for the age distribution of Titanic passengers addresses the potential confusion arising from overlapping or stacking in histogram plots. By overlaying KDE plots for different subsets of data (in this case, for the total passenger population), we avoid the ambiguity that can occur with histograms where bars can either stack on top of each other or overlap, making it difficult to discern the distinct distributions.\n",
        "\n",
        "### How KDE Solves Overlapping and Stacking Issues:\n",
        "- **Clear Overlapping:** The KDE plot clearly demonstrates how different subsets of data overlap in the distribution space without ambiguity. Since KDE plots are smooth curves, they naturally overlay, allowing for easy comparison of distributions without misinterpretation.\n",
        "- **No Stacking Confusion:** Unlike histograms, where stacked bars might imply additive quantities, KDE plots simply show the density of data points at different values. This removes the potential misunderstanding that could arise from interpreting stacked bars.\n",
        "- **Visual Distinction:** The use of shading and color in KDE plots helps in distinguishing between different data subsets. The area under the curve can be shaded to emphasize the density distribution, making it visually intuitive to compare different groups within the same plot.\n",
        "\n",
        "This KDE visualization thus offers a clear and unambiguous way to present overlapping data distributions, effectively solving the issue of interpreting stacked or overlapping histograms. It provides a smooth, continuous view of the age distribution for Titanic passengers, allowing for an intuitive understanding of the overall demographic profile without the potential for misinterpretation associated with histogram-based approaches.\n"
      ]
    },
    {
      "cell_type": "markdown",
      "metadata": {
        "id": "3224ce7a"
      },
      "source": [
        "This code block performs operations that will be detailed here. Please customize this explanation."
      ]
    },
    {
      "cell_type": "markdown",
      "metadata": {
        "id": "7663e306"
      },
      "source": [
        "We'll create visualizations using matplotlib and seaborn to better understand our data's distribution and relationships."
      ]
    },
    {
      "cell_type": "code",
      "execution_count": null,
      "metadata": {
        "id": "fQV364YC0VzM"
      },
      "outputs": [],
      "source": [
        "plt.figure(figsize=(10, 6))\n",
        "\n",
        "# KDE for total passengers\n",
        "sns.kdeplot(titanic_df['age'], bw_adjust=0.7, fill=True, color=\"red\", alpha=1, label='Total')\n",
        "\n",
        "# KDE for male passengers\n",
        "sns.kdeplot(titanic_df[titanic_df['sex'] == 'male']['age'], bw_adjust=0.7, fill=True, color=\"pink\", alpha=0.7, label='female')\n",
        "\n",
        "plt.title('Kernel Density Estimate of Age for Titanic Passengers')\n",
        "plt.xlabel('Age')\n",
        "plt.ylabel('Density')\n",
        "plt.legend() # Add a legend to distinguish the lines\n",
        "plt.xlim(0, 100)  # Set x-axis limits for clarity\n",
        "plt.show()"
      ]
    },
    {
      "cell_type": "code",
      "execution_count": null,
      "metadata": {
        "id": "cIgE9t5tydUd"
      },
      "outputs": [],
      "source": [
        "plt.figure(figsize=(10, 6))\n",
        "# KDE for total passengers\n",
        "sns.kdeplot(titanic_df['age'], bw_adjust=0.7, fill=True, color=\"black\", alpha=1, label='Total')\n",
        "# KDE for total passengers\n",
        "sns.kdeplot(titanic_df[titanic_df['sex'] == 'male']['age'], bw_adjust=0.7, fill=True, color=\"red\", alpha=0.7, label='male')\n",
        "\n",
        "# KDE for male passengers\n",
        "sns.kdeplot(titanic_df[titanic_df['sex'] == 'female']['age'], bw_adjust=0.7, fill=True, color=\"skyblue\", alpha=0.7, label='female')\n",
        "\n",
        "plt.title('Kernel Density Estimate of Age for Titanic Passengers')\n",
        "plt.xlabel('Age')\n",
        "plt.ylabel('Density')\n",
        "plt.legend() # Add a legend to distinguish the lines\n",
        "plt.xlim(0, 100)  # Set x-axis limits for clarity\n",
        "plt.show()"
      ]
    },
    {
      "cell_type": "markdown",
      "metadata": {
        "id": "zDzaTpi1Bs4c"
      },
      "source": [
        "Another convenient method to access the Titanic dataset for analysis and visualization is by using Seaborn's `load_dataset` function. This approach is particularly useful if you're leveraging Seaborn for your data visualization tasks. Here's a simple way to load the Titanic dataset:\n",
        "\n",
        "```python\n",
        "import seaborn as sns\n",
        "\n",
        "# Load the Titanic dataset directly from Seaborn\n",
        "titanic_df = sns.load_dataset('titanic')\n",
        "\n",
        "# Optionally, display the first few rows to verify it's loaded correctly\n",
        "print(titanic_df.head())\n"
      ]
    },
    {
      "cell_type": "code",
      "execution_count": null,
      "metadata": {
        "id": "ehpHB-zEBs4c"
      },
      "outputs": [],
      "source": [
        "# Load the Titanic dataset directly from Seaborn\n",
        "titanic_df = sns.load_dataset('titanic')\n"
      ]
    }
  ],
  "metadata": {
    "colab": {
      "private_outputs": true,
      "provenance": [],
      "include_colab_link": true
    },
    "kernelspec": {
      "display_name": "Python 3",
      "name": "python3"
    },
    "language_info": {
      "codemirror_mode": {
        "name": "ipython",
        "version": 3
      },
      "file_extension": ".py",
      "mimetype": "text/x-python",
      "name": "python",
      "nbconvert_exporter": "python",
      "pygments_lexer": "ipython3",
      "version": "3.11.5"
    }
  },
  "nbformat": 4,
  "nbformat_minor": 0
}